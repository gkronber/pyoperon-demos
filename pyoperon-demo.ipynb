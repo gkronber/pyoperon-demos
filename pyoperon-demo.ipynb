{
 "cells": [
  {
   "cell_type": "code",
   "execution_count": 76,
   "metadata": {},
   "outputs": [],
   "source": [
    "import pandas as pd\n",
    "import numpy as np\n",
    "import matplotlib.pyplot as plt\n",
    "import math\n",
    "\n",
    "from sklearn.model_selection import train_test_split # , cross_val_score\n",
    "# from sklearn.metrics import r2_score, make_scorer, mean_squared_error\n",
    "\n",
    "# from sympy import parse_expr\n",
    "# from copy import deepcopy\n",
    "\n",
    "\n",
    "from pyoperon.sklearn import SymbolicRegressor\n",
    "# from pyoperon import R2, MSE, InfixFormatter, FitLeastSquares, Interpreter\n"
   ]
  },
  {
   "cell_type": "code",
   "execution_count": 79,
   "metadata": {},
   "outputs": [
    {
     "name": "stdout",
     "output_type": "stream",
     "text": [
      "X shape: (362, 1)\n",
      "X shape: (362, 1)\n",
      "X_train shape: (238, 1)\n",
      "X_test shape: (124, 1)\n"
     ]
    }
   ],
   "source": [
    "# Read Nikuradse dataset\n",
    "df = pd.read_csv('nikuradse_2.tsv.gz', sep='\\t')\n",
    "X = np.array(df.iloc[:,:-1])\n",
    "y = np.array(df.iloc[:, -1])\n",
    "\n",
    "print(f'X shape: {np.shape(X)}')\n",
    "print(f'X shape: {np.shape(X)}')\n",
    "\n",
    "\n",
    "X_train, X_test, y_train, y_test = train_test_split(X, y, train_size=0.66)\n",
    "# X_train, y_train = X[0:231, :], y[0:231]\n",
    "# X_test, y_test = X[231:361, :], y[231:361]\n",
    "\n",
    "sErr = 0.05  # estimated value for sigma error (used for model selection)\n",
    "\n",
    "print(f'X_train shape: {np.shape(X_train)}')\n",
    "print(f'X_test shape: {np.shape(X_test)}')\n"
   ]
  },
  {
   "cell_type": "code",
   "execution_count": 80,
   "metadata": {},
   "outputs": [
    {
     "data": {
      "text/html": [
       "<style>#sk-container-id-1 {color: black;}#sk-container-id-1 pre{padding: 0;}#sk-container-id-1 div.sk-toggleable {background-color: white;}#sk-container-id-1 label.sk-toggleable__label {cursor: pointer;display: block;width: 100%;margin-bottom: 0;padding: 0.3em;box-sizing: border-box;text-align: center;}#sk-container-id-1 label.sk-toggleable__label-arrow:before {content: \"▸\";float: left;margin-right: 0.25em;color: #696969;}#sk-container-id-1 label.sk-toggleable__label-arrow:hover:before {color: black;}#sk-container-id-1 div.sk-estimator:hover label.sk-toggleable__label-arrow:before {color: black;}#sk-container-id-1 div.sk-toggleable__content {max-height: 0;max-width: 0;overflow: hidden;text-align: left;background-color: #f0f8ff;}#sk-container-id-1 div.sk-toggleable__content pre {margin: 0.2em;color: black;border-radius: 0.25em;background-color: #f0f8ff;}#sk-container-id-1 input.sk-toggleable__control:checked~div.sk-toggleable__content {max-height: 200px;max-width: 100%;overflow: auto;}#sk-container-id-1 input.sk-toggleable__control:checked~label.sk-toggleable__label-arrow:before {content: \"▾\";}#sk-container-id-1 div.sk-estimator input.sk-toggleable__control:checked~label.sk-toggleable__label {background-color: #d4ebff;}#sk-container-id-1 div.sk-label input.sk-toggleable__control:checked~label.sk-toggleable__label {background-color: #d4ebff;}#sk-container-id-1 input.sk-hidden--visually {border: 0;clip: rect(1px 1px 1px 1px);clip: rect(1px, 1px, 1px, 1px);height: 1px;margin: -1px;overflow: hidden;padding: 0;position: absolute;width: 1px;}#sk-container-id-1 div.sk-estimator {font-family: monospace;background-color: #f0f8ff;border: 1px dotted black;border-radius: 0.25em;box-sizing: border-box;margin-bottom: 0.5em;}#sk-container-id-1 div.sk-estimator:hover {background-color: #d4ebff;}#sk-container-id-1 div.sk-parallel-item::after {content: \"\";width: 100%;border-bottom: 1px solid gray;flex-grow: 1;}#sk-container-id-1 div.sk-label:hover label.sk-toggleable__label {background-color: #d4ebff;}#sk-container-id-1 div.sk-serial::before {content: \"\";position: absolute;border-left: 1px solid gray;box-sizing: border-box;top: 0;bottom: 0;left: 50%;z-index: 0;}#sk-container-id-1 div.sk-serial {display: flex;flex-direction: column;align-items: center;background-color: white;padding-right: 0.2em;padding-left: 0.2em;position: relative;}#sk-container-id-1 div.sk-item {position: relative;z-index: 1;}#sk-container-id-1 div.sk-parallel {display: flex;align-items: stretch;justify-content: center;background-color: white;position: relative;}#sk-container-id-1 div.sk-item::before, #sk-container-id-1 div.sk-parallel-item::before {content: \"\";position: absolute;border-left: 1px solid gray;box-sizing: border-box;top: 0;bottom: 0;left: 50%;z-index: -1;}#sk-container-id-1 div.sk-parallel-item {display: flex;flex-direction: column;z-index: 1;position: relative;background-color: white;}#sk-container-id-1 div.sk-parallel-item:first-child::after {align-self: flex-end;width: 50%;}#sk-container-id-1 div.sk-parallel-item:last-child::after {align-self: flex-start;width: 50%;}#sk-container-id-1 div.sk-parallel-item:only-child::after {width: 0;}#sk-container-id-1 div.sk-dashed-wrapped {border: 1px dashed gray;margin: 0 0.4em 0.5em 0.4em;box-sizing: border-box;padding-bottom: 0.4em;background-color: white;}#sk-container-id-1 div.sk-label label {font-family: monospace;font-weight: bold;display: inline-block;line-height: 1.2em;}#sk-container-id-1 div.sk-label-container {text-align: center;}#sk-container-id-1 div.sk-container {/* jupyter's `normalize.less` sets `[hidden] { display: none; }` but bootstrap.min.css set `[hidden] { display: none !important; }` so we also need the `!important` here to be able to override the default hidden behavior on the sphinx rendered scikit-learn.org. See: https://github.com/scikit-learn/scikit-learn/issues/21755 */display: inline-block !important;position: relative;}#sk-container-id-1 div.sk-text-repr-fallback {display: none;}</style><div id=\"sk-container-id-1\" class=\"sk-top-container\"><div class=\"sk-text-repr-fallback\"><pre>SymbolicRegressor(generations=50, max_time=9223372036854775807,\n",
       "                  mutation_probability=0.15, n_threads=0,\n",
       "                  objectives=[&#x27;r2&#x27;, &#x27;length&#x27;], optimizer_iterations=30,\n",
       "                  pool_size=1000, random_state=2977802845400140511,\n",
       "                  tournament_size=3, uncertainty=[0.04])</pre><b>In a Jupyter environment, please rerun this cell to show the HTML representation or trust the notebook. <br />On GitHub, the HTML representation is unable to render, please try loading this page with nbviewer.org.</b></div><div class=\"sk-container\" hidden><div class=\"sk-item\"><div class=\"sk-estimator sk-toggleable\"><input class=\"sk-toggleable__control sk-hidden--visually\" id=\"sk-estimator-id-1\" type=\"checkbox\" checked><label for=\"sk-estimator-id-1\" class=\"sk-toggleable__label sk-toggleable__label-arrow\">SymbolicRegressor</label><div class=\"sk-toggleable__content\"><pre>SymbolicRegressor(generations=50, max_time=9223372036854775807,\n",
       "                  mutation_probability=0.15, n_threads=0,\n",
       "                  objectives=[&#x27;r2&#x27;, &#x27;length&#x27;], optimizer_iterations=30,\n",
       "                  pool_size=1000, random_state=2977802845400140511,\n",
       "                  tournament_size=3, uncertainty=[0.04])</pre></div></div></div></div></div>"
      ],
      "text/plain": [
       "SymbolicRegressor(generations=50, max_time=9223372036854775807,\n",
       "                  mutation_probability=0.15, n_threads=0,\n",
       "                  objectives=['r2', 'length'], optimizer_iterations=30,\n",
       "                  pool_size=1000, random_state=2977802845400140511,\n",
       "                  tournament_size=3, uncertainty=[0.04])"
      ]
     },
     "execution_count": 80,
     "metadata": {},
     "output_type": "execute_result"
    }
   ],
   "source": [
    "\n",
    "reg = SymbolicRegressor(\n",
    "        allowed_symbols= \"add,sub,mul,div,constant,variable\",\n",
    "        population_size= 1000,\n",
    "        pool_size= 1000,\n",
    "        generations= 50,\n",
    "        female_selector= \"tournament\",\n",
    "        male_selector= \"tournament\",\n",
    "        tournament_size= 3,\n",
    "        optimizer_iterations= 30,\n",
    "        optimizer='lm',\n",
    "        epsilon= 1e-05,\n",
    "        max_evaluations= 1000000,\n",
    "        max_length= 50,\n",
    "        model_selection_criterion= \"minimum_description_length\",\n",
    "        mutation_probability= 0.15,\n",
    "        objectives= [ 'r2', 'length' ],\n",
    "        random_state= None,\n",
    "        uncertainty= [sErr],\n",
    "        n_threads=0\n",
    "        )\n",
    "\n",
    "reg.fit(X_train, y_train)\n",
    "\n"
   ]
  },
  {
   "cell_type": "code",
   "execution_count": 81,
   "metadata": {},
   "outputs": [
    {
     "name": "stdout",
     "output_type": "stream",
     "text": [
      "[-0.004677910823374987, 5.0] 4203.1123046875 (1.7587060928344727 + (0.0251395925879478 * (0.8844552040100098 * X1)))\n",
      "[-0.00773428613319993, 7.0] 4193.48779296875 (1.8248510360717773 + (0.1092857271432877 * ((0.4144771397113800 * X1) * ((-0.1855963915586472) * X1))))\n",
      "[-0.4117153286933899, 9.0] 2281.674560546875 (0.2554417848587036 + ((-0.0104616666212678) * (((-185.3835296630859375) * X1) / ((1.1552715301513672 * X1) - (-0.1124719679355621)))))\n",
      "[-0.6168841123580933, 11.0] 1312.9732666015625 (0.3925811648368835 + (0.5004147887229919 * (((5.9019069671630859 * X1) / ((1.3399424552917480 * X1) - (-0.4578520357608795))) + ((-0.3935047090053558) * X1))))\n",
      "[-0.8080642223358154, 13.0] 406.5998229980469 (0.2768271267414093 + (10.4626884460449219 * ((((-7.8533039093017578) * X1) / ((0.4989816844463348 * X1) - (-0.6027991771697998))) / (((-20.4415321350097656) * X1) - 24.1571636199951172))))\n",
      "[-0.9209272861480713, 15.0] -122.8186264038086 (0.8756437897682190 + (7.3049435615539551 * (((0.2645038366317749 * X1) - (-0.3112939298152924)) / (((20.8456592559814453 + ((-30.4130516052246094) * X1)) / (5.9669137001037598 * X1)) + (5.0244255065917969 * X1)))))\n",
      "[-0.9709466695785522, 17.0] -318.6427917480469 (0.0216011591255665 + (0.9882193803787231 * (((-0.1438025981187820) / (((-0.1612366586923599) * X1) - (((-6.0659747123718262) - ((-10.5035085678100586) * X1)) / (((-31.6494827270507812) * X1) - 25.8186779022216797)))) - ((-0.4091646075248718) * X1))))\n",
      "[-0.975908100605011, 19.0] -339.6174621582031 ((-0.0000022184879072) + (0.9999998211860657 * ((0.6038423776626587 + (0.2594115734100342 * X1)) + (14.0436048507690430 / (((227.2488250732421875 + ((-358.5186767578125000) * X1)) / (1.7881805896759033 + (12.5841503143310547 * X1))) - ((-20.2018718719482422) * X1))))))\n",
      "[-0.9782030582427979, 21.0] -333.9422912597656 ((-0.0210173092782497) + (1.0114818811416626 * (4.2066650390625000 / ((0.4667168557643890 * X1) - (5.5352125167846680 / (((-1.8069072961807251) * X1) + ((-4.3732538223266602) / (((-6.7601828575134277) * X1) - ((-27.8063144683837891) / (5.5087394714355469 + ((-2.4287147521972656) * X1)))))))))))\n",
      "[-0.9802852869033813, 23.0] -331.6950988769531 ((-0.0000519505447301) + (1.0000451803207397 * ((((21.0373458862304688 * X1) - 1.2528866529464722) * (((-0.0073878811672330) * X1) - (-0.0485503189265728))) + (2.0305428504943848 / (((-13.5806074142456055) * X1) - ((20.5203590393066406 - ((-70.6652297973632812) * X1)) / ((1.0827901363372803 * X1) - 7.1202015876770020)))))))\n",
      "[-0.9805281758308411, 25.0] -331.3702392578125 (0.0002504111616872 + (0.9998630285263062 * (4.8399295806884766 / ((0.4472836554050446 * X1) - (6.1159610748291016 / ((((-1.3888679742813110) * X1) - 0.5089974999427795) + (((-0.2168362140655518) - (0.5831034183502197 * X1)) / ((85.4692459106445312 / (115.6919250488281250 - (58.5986595153808594 * X1))) + ((-0.9604876041412354) * X1)))))))))\n",
      "[-0.9811102151870728, 27.0] -326.4386291503906 (0.0000012619892686 + (0.9999992847442627 * (2.0984370708465576 + (((2.0251505374908447 * X1) + (-1.7560589313507080)) / (((-4.8825340270996094) * X1) - (((6.5508551597595215 - ((-17.3529129028320312) * X1)) / ((2.7749872207641602 * X1) - 3.3116669654846191)) / ((134.4846801757812500 / (85.6124801635742188 - (59.3813591003417969 * X1))) + ((-0.8770173192024231) * X1))))))))\n",
      "[-0.9811419248580933, 29.0] -311.5270690917969 (0.0000404889033234 + (0.9999792575836182 * ((((-0.0592275112867355) * X1) - (-2.1670591831207275)) + (((0.9435567259788513 * X1) + (-0.8420463800430298)) / (((-4.7649288177490234) * X1) - (((2.1257309913635254 - ((-16.1258392333984375) * X1)) / ((2.0100553035736084 * X1) - 2.4014391899108887)) / ((137.5233154296875000 / (89.0811462402343750 - (68.2366638183593750 * X1))) + ((-0.3075263202190399) * X1))))))))\n",
      "[-0.9818685054779053, 31.0] -299.13934326171875 ((-0.0008733081049286) + (1.0004901885986328 * (1.8296434879302979 + (((-0.9609541893005371) - ((-1.5745618343353271) * X1)) / (((-13.1161794662475586) * X1) - (((2.1398885250091553 - ((-36.5353431701660156) * X1)) / ((((-2.4791095256805420) * X1) - (-4.0333533287048340)) * ((-1.1498481035232544) - (1.5966579914093018 * X1)))) / ((65.9953079223632812 / (116.0413970947265625 - (54.7790222167968750 * X1))) + ((-0.4771539270877838) * X1))))))))\n",
      "[-0.9819503426551819, 33.0] -284.4374694824219 ((-0.0000002292566137) + (1.0000001192092896 * (1.7392200231552124 + ((((2.4218704700469971 * X1) - (((-3.8268899917602539) - ((-6.5308246612548828) * X1)) / ((0.9682993888854980 * X1) - 0.6069557666778564))) / ((11.8933210372924805 * X1) - (((-11.5982255935668945) - ((-9.6404371261596680) * X1)) / ((0.6882025599479675 * X1) - 0.4311589598655701)))) * (((-0.0469342544674873) - ((-0.0225008781999350) * X1)) * (99.1653366088867188 - (34.7086982727050781 * X1)))))))\n",
      "[-0.9828445911407471, 37.0] -236.8542938232422 (0.0001806928630685 + (0.9998423457145691 * ((((6.4719319343566895 * X1) - (((-14.1435279846191406) - ((-12.7912569046020508) * X1)) / ((0.8710159659385681 * X1) - 0.5459881424903870))) / ((5.8858585357666016 * X1) - (((-6.7793407440185547) - ((-6.3314228057861328) * X1)) / ((0.5554476380348206 * X1) - 0.3481672108173370)))) + ((((-2.6584403514862061) * X1) + 1.0070391893386841) / (((-6.3591151237487793) * X1) - (((-13.9694080352783203) - ((-65.0296936035156250) * X1)) / (((-2.7584185600280762) * X1) - 8.9656581878662109)))))))\n",
      "[-0.9829906225204468, 43.0] -238.48414611816406 ((-0.0000037097770473) + (1.0000143051147461 * (((((-1077.6311035156250000) * X1) - 0.3010720312595367) / (((-621.7032470703125000) * X1) - ((((-1.2203861474990845) * X1) - (-0.7469850182533264)) / (((-6.2699489593505859) * X1) - (-3.9318518638610840))))) + (((-1.1763550043106079) + (((3.3475794792175293 * X1) + (-0.2194149494171143)) / (((-7.1987242698669434) * X1) - ((27.5527572631835938 - ((-30.1770706176757812) * X1)) / ((2.2188658714294434 * X1) - 9.4200935363769531))))) / (((-11.9289588928222656) * X1) - ((14.9601802825927734 - ((-120.5365219116210938) * X1)) / ((3.9130749702453613 * X1) - 11.2946481704711914)))))))\n",
      "[-0.9831989407539368, 43.0] -252.4629364013672 (0.0000001282251247 + (((((-1043.6857910156250000) * X1) - 0.1509830504655838) / (((-595.5933837890625000) * X1) - ((((-0.6256015300750732) * X1) - (-0.3614439964294434)) / (((-6.2696771621704102) * X1) - (-3.9321568012237549))))) + ((((1.3318150043487549 * X1) - 3.1558508872985840) + (((0.7926264405250549 * X1) + 1.3532224893569946) / (((-5.6377682685852051) * X1) - ((15.6769056320190430 - ((-34.2326164245605469) * X1)) / ((1.3851613998413086 * X1) - 9.6555004119873047))))) / (((-8.9008827209472656) * X1) - ((22.2054252624511719 - ((-63.5504646301269531) * X1)) / ((4.8441925048828125 * X1) - 9.5858755111694336))))))\n",
      "[-0.9832310080528259, 51.0] -195.2457733154297 (0.0000432935958088 + (0.9999748468399048 * (((((-1043.6857910156250000) * X1) - 0.1558974832296371) / (((-580.9315185546875000) * X1) - ((((-0.6256015300750732) * X1) - (-0.3596642315387726)) / (((-6.2696771621704102) * X1) - (-3.9322762489318848))))) + (((((-0.3983296453952789) * X1) - (((-52.6360626220703125) - ((-57.3441352844238281) * X1)) * ((0.0089745586737990 * X1) - 0.0254777297377586))) + ((((-0.2931535243988037) * X1) + 0.6034859418869019) / (((-5.6517443656921387) * X1) - ((15.6769056320190430 - ((-34.2326164245605469) * X1)) / ((1.3473210334777832 * X1) - 9.6555004119873047))))) / (((-9.0328054428100586) * X1) - ((7.2189526557922363 - ((-63.5504646301269531) * X1)) / ((1.2734032869338989 * X1) - 7.9274663925170898)))))))\n",
      "[-0.9832316040992737, 53.0] -187.10389709472656 ((-0.0000003159445896) + (1.0000003576278687 * (((((-545.8656005859375000) * X1) - 3.7779135704040527) / (((-313.1135253906250000) * X1) - ((17.4667739868164062 - (27.9070568084716797 * X1)) / (((-12.0893650054931641) * X1) - (-7.5823936462402344))))) + ((((0.3416408896446228 * X1) - ((0.0087495511397719 * ((-17.8589038848876953) - ((-6.1998839378356934) * X1))) * ((8.9794282913208008 * X1) - 23.4739341735839844))) + ((((-0.2497318983078003) * X1) + 1.1274416446685791) / (((-5.0252680778503418) * X1) - ((10.4058141708374023 - ((-36.4652519226074219) * X1)) / ((1.0122425556182861 * X1) - 9.9515399932861328))))) / (((-9.1069564819335938) * X1) - ((25.6682319641113281 - ((-60.9990768432617188) * X1)) / ((4.6137056350708008 * X1) - 9.9118957519531250)))))))\n",
      "((-0.000) + (1.000 * ((0.604 + (0.259 * X1)) + (14.044 / (((227.249 + ((-358.519) * X1)) / (1.788 + (12.584 * X1))) - ((-20.202) * X1))))))\n"
     ]
    }
   ],
   "source": [
    "\n",
    "res = [(s['objective_values'], s['tree'], s['minimum_description_length']) for s in reg.pareto_front_]\n",
    "for obj, expr, mdl in res:\n",
    "    print(obj, mdl, reg.get_model_string(expr, 16))\n",
    "\n",
    "m = reg.model_\n",
    "s = reg.get_model_string(m, 3)\n",
    "print(s)"
   ]
  },
  {
   "cell_type": "code",
   "execution_count": 82,
   "metadata": {},
   "outputs": [
    {
     "name": "stdout",
     "output_type": "stream",
     "text": [
      "RMSE (training): 0.0392\n",
      "RMSE (test): 0.044\n",
      "(238,)\n"
     ]
    },
    {
     "data": {
      "text/plain": [
       "[<matplotlib.lines.Line2D at 0x7f73424bad00>]"
      ]
     },
     "execution_count": 82,
     "metadata": {},
     "output_type": "execute_result"
    },
    {
     "data": {
      "image/png": "[encoded data removed]",
      "text/plain": [
       "<Figure size 432x288 with 1 Axes>"
      ]
     },
     "metadata": {
      "needs_background": "light"
     },
     "output_type": "display_data"
    }
   ],
   "source": [
    "y_train_pred = reg.predict(X_train)\n",
    "y_test_pred = reg.predict(X_test)\n",
    "\n",
    "r_train = (y_train - y_train_pred)\n",
    "r_test = (y_test - y_test_pred)\n",
    "MSE_train = 1/len(r_train) * r_train.T @ r_train\n",
    "MSE_test = 1/len(r_test) * r_test.T @ r_test\n",
    "print(f'RMSE (training): {math.sqrt(MSE_train):0.3}')\n",
    "print(f'RMSE (test): {math.sqrt(MSE_test):0.3}')\n",
    "\n",
    "print(np.shape(y_train_pred))\n",
    "plt.plot(X_train[:,0], y_train, 'o', label='Target', markersize=1)\n",
    "plt.plot(X_train[:,0], y_train_pred, 'o', label='Training prediction', markersize=1)\n",
    "plt.plot(X_test[:,0], y_test_pred, 'o', label='Training prediction', markersize=1)\n",
    "# plt.legend()\n",
    "# plt.show()"
   ]
  },
  {
   "cell_type": "code",
   "execution_count": 83,
   "metadata": {},
   "outputs": [
    {
     "data": {
      "image/png": "[encoded data removed]",
      "text/plain": [
       "<Figure size 432x288 with 1 Axes>"
      ]
     },
     "metadata": {
      "needs_background": "light"
     },
     "output_type": "display_data"
    },
    {
     "data": {
      "image/png": "[encoded data removed]",
      "text/plain": [
       "<Figure size 432x288 with 1 Axes>"
      ]
     },
     "metadata": {
      "needs_background": "light"
     },
     "output_type": "display_data"
    }
   ],
   "source": [
    "# Pareto front of objective values (R2,length)\n",
    "values = np.array([t['objective_values'] for t in reg.pareto_front_])\n",
    "plt.plot(values[:,1], -values[:,0], 'o')\n",
    "plt.xlabel ('Expr. length')\n",
    "plt.ylabel ('R2')\n",
    "plt.title ('Pareto front')\n",
    "plt.ylim((0.8, 1))\n",
    "plt.show()\n",
    "\n",
    "# Description length\n",
    "values = np.array([(*t['objective_values'], t['minimum_description_length']) for t in reg.pareto_front_])\n",
    "\n",
    "plt.plot(values[:,1], values[:,2], 'o')\n",
    "plt.xlabel ('Expr. length')\n",
    "plt.ylabel ('Description length')\n",
    "plt.title ('Pareto front')\n",
    "plt.ylim((-600, 100))\n",
    "plt.show()\n"
   ]
  }
 ],
 "metadata": {
  "kernelspec": {
   "display_name": "Python 3",
   "language": "python",
   "name": "python3"
  },
  "language_info": {
   "codemirror_mode": {
    "name": "ipython",
    "version": 3
   },
   "file_extension": ".py",
   "mimetype": "text/x-python",
   "name": "python",
   "nbconvert_exporter": "python",
   "pygments_lexer": "ipython3",
   "version": "3.8.10"
  }
 },
 "nbformat": 4,
 "nbformat_minor": 2
}
